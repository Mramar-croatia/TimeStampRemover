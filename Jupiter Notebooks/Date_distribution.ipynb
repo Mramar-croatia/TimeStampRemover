{
 "cells": [
  {
   "cell_type": "code",
   "execution_count": null,
   "metadata": {},
   "outputs": [],
   "source": [
    "from tkinter import Tk\n",
    "from tkinter import filedialog as fd\n",
    "import matplotlib.pyplot as plt\n",
    "import numpy as np\n",
    "import pandas as pd\n",
    "\n",
    "from functions import *\n",
    "\n",
    "from datetime import datetime"
   ]
  },
  {
   "cell_type": "code",
   "execution_count": null,
   "metadata": {},
   "outputs": [],
   "source": [
    "messages = process_transcript_to_pandas()"
   ]
  },
  {
   "cell_type": "code",
   "execution_count": null,
   "metadata": {},
   "outputs": [],
   "source": [
    "date_dict = {\n",
    "        'date': [],\n",
    "        'number_of_messages': []\n",
    "}\n",
    "\n",
    "starting_date = '01/11/2023'\n",
    "earliest = to_ymd_date(messages.iloc[0]['timestamp'])\n",
    "\n",
    "for i in pd.date_range(start=earliest,end=to_ymd_date(messages.iloc[-1]['timestamp'])):\n",
    "    date_dict['date'].append(to_dmy_date(str(i)[:10]))\n",
    "    date_dict['number_of_messages'].append(0)\n",
    "\n",
    "messages = messages.reset_index(drop=True)\n",
    "\n",
    "for index, row in messages.iterrows():\n",
    "    if to_dmy_date(to_ymd_date(row['timestamp'])) in date_dict['date']:\n",
    "        date_dict['number_of_messages'][date_dict['date'].index(to_dmy_date(to_ymd_date(row['timestamp'])))] += 1"
   ]
  },
  {
   "cell_type": "code",
   "execution_count": null,
   "metadata": {},
   "outputs": [],
   "source": [
    "dates = pd.DataFrame(date_dict)\n",
    "\n",
    "dates = dates.set_index('date')\n",
    "\n",
    "dates.sort_values(\"number_of_messages\", ascending=True)"
   ]
  },
  {
   "cell_type": "code",
   "execution_count": null,
   "metadata": {},
   "outputs": [],
   "source": [
    "dates.plot(figsize=(30,30))"
   ]
  }
 ],
 "metadata": {
  "kernelspec": {
   "display_name": "base",
   "language": "python",
   "name": "python3"
  },
  "language_info": {
   "codemirror_mode": {
    "name": "ipython",
    "version": 3
   },
   "file_extension": ".py",
   "mimetype": "text/x-python",
   "name": "python",
   "nbconvert_exporter": "python",
   "pygments_lexer": "ipython3",
   "version": "3.11.5"
  }
 },
 "nbformat": 4,
 "nbformat_minor": 2
}
