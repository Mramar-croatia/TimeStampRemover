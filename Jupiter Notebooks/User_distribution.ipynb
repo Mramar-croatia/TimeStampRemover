{
 "cells": [
  {
   "cell_type": "code",
   "execution_count": null,
   "metadata": {},
   "outputs": [],
   "source": [
    "from tkinter import Tk\n",
    "from tkinter import filedialog as fd\n",
    "import matplotlib.pyplot as plt\n",
    "import numpy as np\n",
    "import pandas as pd\n",
    "from matplotlib.cm import viridis\n",
    "\n",
    "from functions import *"
   ]
  },
  {
   "cell_type": "code",
   "execution_count": null,
   "metadata": {},
   "outputs": [],
   "source": [
    "messages = process_transcript_to_pandas()\n",
    "\n",
    "dates_dataframe = GenerateDateFrame(messages)"
   ]
  },
  {
   "cell_type": "code",
   "execution_count": null,
   "metadata": {},
   "outputs": [],
   "source": [
    "messages = messages.reset_index()\n",
    "\n",
    "user_message_counts = messages['sender'].value_counts().reset_index()\n",
    "user_message_counts.columns = ['sender', 'message_count']\n",
    "user_message_df = pd.DataFrame(user_message_counts)"
   ]
  },
  {
   "cell_type": "code",
   "execution_count": null,
   "metadata": {},
   "outputs": [],
   "source": [
    "# Manually specify colors for each user\n",
    "colors = ['skyblue', 'orange', 'green', 'red', 'purple', 'brown', 'pink', 'gray']\n",
    "\n",
    "plt.figure(figsize=(40, 20))\n",
    "bars = plt.bar(user_message_df['sender'], user_message_df['message_count'],  color=colors[:len(user_message_df)])\n",
    "plt.xlabel('Osoba', fontsize=30, labelpad=40)  # Increase font size and set label padding for x-axis label\n",
    "plt.ylabel('Broj poruka', fontsize=30, labelpad=50)  # Increase font size and set label padding for y-axis label\n",
    "plt.title('Broj poruka svake osobe', fontsize=40, pad=50)  # Increase font size and set title padding\n",
    "\n",
    "# Increase font size for x-axis and y-axis ticks\n",
    "plt.xticks(fontsize=15)\n",
    "plt.yticks(fontsize=15)\n",
    "\n",
    "# Add value annotations on top of the bars\n",
    "for bar in bars:\n",
    "    plt.text(bar.get_x() + bar.get_width() / 2 - 0.15, bar.get_height() + 50, str(int(bar.get_height())),\n",
    "             fontsize=20, color='black')\n",
    "\n",
    "plt.show()"
   ]
  }
 ],
 "metadata": {
  "kernelspec": {
   "display_name": "base",
   "language": "python",
   "name": "python3"
  },
  "language_info": {
   "codemirror_mode": {
    "name": "ipython",
    "version": 3
   },
   "file_extension": ".py",
   "mimetype": "text/x-python",
   "name": "python",
   "nbconvert_exporter": "python",
   "pygments_lexer": "ipython3",
   "version": "3.11.5"
  }
 },
 "nbformat": 4,
 "nbformat_minor": 2
}
