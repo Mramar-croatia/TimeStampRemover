{
 "cells": [
  {
   "cell_type": "code",
   "execution_count": null,
   "metadata": {},
   "outputs": [],
   "source": [
    "from tkinter import Tk\n",
    "from tkinter import filedialog as fd\n",
    "import matplotlib.pyplot as plt\n",
    "import numpy as np\n",
    "import pandas as pd\n",
    "\n",
    "from functions import *\n",
    "\n",
    "from datetime import datetime"
   ]
  },
  {
   "cell_type": "code",
   "execution_count": null,
   "metadata": {},
   "outputs": [],
   "source": [
    "messages = process_transcript_to_pandas()"
   ]
  },
  {
   "cell_type": "code",
   "execution_count": null,
   "metadata": {},
   "outputs": [],
   "source": [
    "hour_dict = {\n",
    "        'hour': [],\n",
    "        'number_of_messages': []\n",
    "}\n",
    "\n",
    "#12 i 13\n",
    "\n",
    "for i in range(0, 24):\n",
    "    hour_dict['hour'].append(str(i).rjust(2, '0'))\n",
    "    hour_dict['number_of_messages'].append(0)\n",
    "\n",
    "messages = messages.reset_index(drop=True)\n",
    "\n",
    "for index, row in messages.iterrows():\n",
    "    # print(row['timestamp'][12:14].rjust(2, '0'))\n",
    "    hour_dict['number_of_messages'][hour_dict['hour'].index(row['timestamp'][12:14].rjust(2, '0'))] += 1\n",
    "\n",
    "for i in range(len(hour_dict['hour'])):\n",
    "    hour_dict['hour'][i] = str(int(hour_dict['hour'][i]) + 1)"
   ]
  },
  {
   "cell_type": "code",
   "execution_count": null,
   "metadata": {},
   "outputs": [],
   "source": [
    "hours = pd.DataFrame(hour_dict)\n",
    "\n",
    "hours = hours.set_index('hour')"
   ]
  },
  {
   "cell_type": "code",
   "execution_count": null,
   "metadata": {},
   "outputs": [],
   "source": [
    "colors = ['skyblue', 'orange', 'green', 'red', 'purple', 'brown', 'pink', 'gray']\n",
    "\n",
    "plt.figure(figsize=(40, 20))\n",
    "bars = plt.bar(hours.index, hours['number_of_messages'],  color=colors[:len(hours)])\n",
    "plt.xlabel('Sat', fontsize=30, labelpad=40)  # Increase font size and set label padding for x-axis label\n",
    "plt.ylabel('Broj poruka', fontsize=30, labelpad=50)  # Increase font size and set label padding for y-axis label\n",
    "plt.title('Broj poruka poslanih svaki sat', fontsize=40, pad=50)  # Increase font size and set title padding\n",
    "\n",
    "# Increase font size for x-axis and y-axis ticks\n",
    "plt.xticks(fontsize=15)\n",
    "plt.yticks(fontsize=15)\n",
    "\n",
    "# Add value annotations on top of the bars\n",
    "for bar in bars:\n",
    "    plt.text(bar.get_x() + bar.get_width() / 2 - 0.28, bar.get_height() + 50, str(int(bar.get_height())),\n",
    "             fontsize=20, color='black')\n",
    "\n",
    "plt.show()"
   ]
  }
 ],
 "metadata": {
  "kernelspec": {
   "display_name": "base",
   "language": "python",
   "name": "python3"
  },
  "language_info": {
   "codemirror_mode": {
    "name": "ipython",
    "version": 3
   },
   "file_extension": ".py",
   "mimetype": "text/x-python",
   "name": "python",
   "nbconvert_exporter": "python",
   "pygments_lexer": "ipython3",
   "version": "3.11.5"
  }
 },
 "nbformat": 4,
 "nbformat_minor": 2
}
