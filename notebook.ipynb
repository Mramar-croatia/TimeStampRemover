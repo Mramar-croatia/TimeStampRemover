{
 "cells": [
  {
   "cell_type": "code",
   "execution_count": null,
   "metadata": {},
   "outputs": [],
   "source": [
    "from tkinter import Tk\n",
    "from tkinter import filedialog as fd\n",
    "import matplotlib.pyplot as plt\n",
    "import numpy as np\n",
    "import pandas as pd\n",
    "\n",
    "from functions import *"
   ]
  },
  {
   "cell_type": "code",
   "execution_count": null,
   "metadata": {},
   "outputs": [],
   "source": [
    "def to_pandas(input_filepath):\n",
    "    # Loads the text into a list\n",
    "    with open(input_filepath, 'r', encoding=\"utf8\") as f:\n",
    "        lines = f.readlines()\n",
    "        f.close()\n",
    "\n",
    "    if ':' not in lines[0][20:]:\n",
    "        lines.remove(lines[0])\n",
    "\n",
    "    chat_name = input_filepath[input_filepath.rfind('WhatsApp Chat'):]\n",
    "\n",
    "    message_dict = transcript_to_dictionary(chat_name, lines)\n",
    "\n",
    "    return pd.DataFrame(message_dict)\n",
    "\n",
    "def transcript_to_dictionary(chat_name, lines):\n",
    "\n",
    "    message_dict = {\n",
    "        'timestamp': [],\n",
    "        'chat_name': [],\n",
    "        'sender': [],\n",
    "        'contents': []\n",
    "    }\n",
    "\n",
    "    current_message = ['timestamp', 'chat_name', 'sender', 'contents']\n",
    "\n",
    "    current_message[0] = lines[0][:17]\n",
    "    line = lines[0][20:]\n",
    "    current_message[1] = chat_name\n",
    "    current_message[2] = line[:line.find(':')]\n",
    "    line = line[line.find(':') + 2:]\n",
    "    current_message[3] = line\n",
    "\n",
    "    lines.remove(lines[0])\n",
    "\n",
    "    for line in lines:\n",
    "        if len(line) > 19 and line[2] == '/' and ':' in line[20:]:\n",
    "            message_dict['timestamp'].append(current_message[0])\n",
    "            message_dict['chat_name'].append(current_message[1])\n",
    "            message_dict['sender'].append(current_message[2])\n",
    "            message_dict['contents'].append(current_message[3])\n",
    "\n",
    "            current_message = ['timestamp', 'chat_name', 'sender', 'contents']\n",
    "\n",
    "            current_message[0] = line[:17]\n",
    "            line = line[20:]\n",
    "\n",
    "            current_message[1] = chat_name\n",
    "\n",
    "            current_message[2] = line[:line.find(':')]\n",
    "            line = line[line.find(':') + 2:]\n",
    "\n",
    "            current_message[3] = line\n",
    "\n",
    "        else:\n",
    "            current_message[3] += line\n",
    "\n",
    "    message_dict['timestamp'].append(current_message[0])\n",
    "    message_dict['chat_name'].append(current_message[1])\n",
    "    message_dict['sender'].append(current_message[2])\n",
    "    message_dict['contents'].append(current_message[3])\n",
    "\n",
    "    return message_dict\n",
    "\n",
    "def process_transcript_to_pandas():\n",
    "    root = Tk()\n",
    "    root.withdraw()\n",
    "\n",
    "    input_path = fd.askopenfilename()\n",
    "\n",
    "    return to_pandas(input_path)\n",
    "\n",
    "def to_ymd_date (timestamp):\n",
    "    day = timestamp[0:2]\n",
    "    month = timestamp[3:5]\n",
    "    year = timestamp[6:10]\n",
    "    return f'{year}-{month}-{day}'\n",
    "\n",
    "def to_dmy_date (timestamp):\n",
    "    day = timestamp[8:10]\n",
    "    month = timestamp[5:7]\n",
    "    year = timestamp[:4]\n",
    "    return f'{day}-{month}-{year}'"
   ]
  },
  {
   "cell_type": "code",
   "execution_count": null,
   "metadata": {},
   "outputs": [],
   "source": [
    "messages = process_transcript_to_pandas()"
   ]
  },
  {
   "cell_type": "code",
   "execution_count": null,
   "metadata": {},
   "outputs": [],
   "source": [
    "messages = messages.sort_values(\"contents\", ascending=True, key=lambda col: col.str.len())"
   ]
  },
  {
   "cell_type": "code",
   "execution_count": null,
   "metadata": {},
   "outputs": [],
   "source": [
    "messages = messages.sort_index()"
   ]
  },
  {
   "cell_type": "code",
   "execution_count": null,
   "metadata": {},
   "outputs": [],
   "source": [
    "messages = messages.reset_index(drop=True)"
   ]
  },
  {
   "cell_type": "code",
   "execution_count": null,
   "metadata": {},
   "outputs": [],
   "source": [
    "messages = messages.sort_values(\"timestamp\", ascending=True)"
   ]
  },
  {
   "cell_type": "code",
   "execution_count": null,
   "metadata": {},
   "outputs": [],
   "source": [
    "# Zoome time\n",
    "\n",
    "from datetime import datetime\n",
    "\n",
    "date_dict = {\n",
    "        'date': [],\n",
    "        'number_of_messages': []\n",
    "}\n",
    "\n",
    "starting_date = '12/11/2022'\n",
    "earliest = to_ymd_date(messages.iloc[0]['timestamp'])\n",
    "\n",
    "for i in pd.date_range(start='12/11/2022',end=to_ymd_date(messages.iloc[-1]['timestamp'])):\n",
    "    date_dict['date'].append(to_dmy_date(str(i)[:10]))\n",
    "    date_dict['number_of_messages'].append(0)\n",
    "\n",
    "messages = messages.reset_index(drop=True)\n",
    "\n",
    "for index, row in messages.iterrows():\n",
    "    if to_dmy_date(to_ymd_date(row['timestamp'])) in date_dict['date']:\n",
    "        date_dict['number_of_messages'][date_dict['date'].index(to_dmy_date(to_ymd_date(row['timestamp'])))] += 1"
   ]
  },
  {
   "cell_type": "code",
   "execution_count": null,
   "metadata": {},
   "outputs": [],
   "source": [
    "dates = pd.DataFrame(date_dict)\n",
    "\n",
    "dates = dates.set_index('date')\n",
    "\n",
    "dates.sort_values(\"number_of_messages\", ascending=True)"
   ]
  },
  {
   "cell_type": "code",
   "execution_count": null,
   "metadata": {},
   "outputs": [],
   "source": [
    "dates.plot(figsize=(30,30))"
   ]
  },
  {
   "cell_type": "code",
   "execution_count": null,
   "metadata": {},
   "outputs": [],
   "source": [
    "print('a')"
   ]
  }
 ],
 "metadata": {
  "kernelspec": {
   "display_name": "base",
   "language": "python",
   "name": "python3"
  },
  "language_info": {
   "codemirror_mode": {
    "name": "ipython",
    "version": 3
   },
   "file_extension": ".py",
   "mimetype": "text/x-python",
   "name": "python",
   "nbconvert_exporter": "python",
   "pygments_lexer": "ipython3",
   "version": "3.11.5"
  }
 },
 "nbformat": 4,
 "nbformat_minor": 2
}
